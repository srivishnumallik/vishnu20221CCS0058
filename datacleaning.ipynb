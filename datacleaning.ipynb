{
  "nbformat": 4,
  "nbformat_minor": 0,
  "metadata": {
    "colab": {
      "provenance": [],
      "mount_file_id": "1cpX7yjTWtJDa-pf3Ym9oeL66X2AlG8cc",
      "authorship_tag": "ABX9TyOhHfKVmFTrZXOVqp2xEvhC",
      "include_colab_link": true
    },
    "kernelspec": {
      "name": "python3",
      "display_name": "Python 3"
    },
    "language_info": {
      "name": "python"
    }
  },
  "cells": [
    {
      "cell_type": "markdown",
      "metadata": {
        "id": "view-in-github",
        "colab_type": "text"
      },
      "source": [
        "<a href=\"https://colab.research.google.com/github/srivishnumallik/vishnu20221CCS0058/blob/main/datacleaning.ipynb\" target=\"_parent\"><img src=\"https://colab.research.google.com/assets/colab-badge.svg\" alt=\"Open In Colab\"/></a>"
      ]
    },
    {
      "cell_type": "code",
      "source": [
        "import pandas as pd\n",
        "path=\"/content/drive/MyDrive/data/data (1).csv\"\n",
        "dd=pd.read_csv(path)\n",
        "print(dd.head(5))"
      ],
      "metadata": {
        "id": "12OkS8A_xS4E"
      },
      "execution_count": null,
      "outputs": []
    },
    {
      "cell_type": "code",
      "source": [
        "df=pd.read_csv(\"/content/drive/MyDrive/data/data (1).csv\")\n",
        "print(df.head())"
      ],
      "metadata": {
        "id": "wBVAYl_cyKIu"
      },
      "execution_count": null,
      "outputs": []
    },
    {
      "cell_type": "code",
      "source": [
        "df.shape"
      ],
      "metadata": {
        "id": "vw0pzg49ykV8"
      },
      "execution_count": null,
      "outputs": []
    },
    {
      "cell_type": "code",
      "source": [
        "print(df.to_markdown())"
      ],
      "metadata": {
        "id": "cwDfR8F8ywcz"
      },
      "execution_count": null,
      "outputs": []
    },
    {
      "cell_type": "code",
      "source": [
        "df.isnull()"
      ],
      "metadata": {
        "id": "MbyUpLAkzBcs"
      },
      "execution_count": null,
      "outputs": []
    },
    {
      "cell_type": "code",
      "source": [
        "df.isnull().sum()"
      ],
      "metadata": {
        "id": "OK4b8UE1zI-r"
      },
      "execution_count": null,
      "outputs": []
    },
    {
      "cell_type": "code",
      "source": [
        "df.fillna(130,inplace=True)\n",
        "print(df.to_markdown())"
      ],
      "metadata": {
        "id": "-OnW4C63zNOE"
      },
      "execution_count": null,
      "outputs": []
    },
    {
      "cell_type": "code",
      "source": [
        "df=pd.read_csv(\"/content/drive/MyDrive/data/data (1).csv\")\n",
        "print(df.head())"
      ],
      "metadata": {
        "id": "F5ob_KLHzlZD"
      },
      "execution_count": null,
      "outputs": []
    },
    {
      "cell_type": "code",
      "source": [
        "x = df[\"Calories\"].mode()[0]\n",
        "df[\"Calories\"].fillna(x, inplace = True)\n",
        "print(df.to_markdown())"
      ],
      "metadata": {
        "id": "DO486eLBz0Pb"
      },
      "execution_count": null,
      "outputs": []
    },
    {
      "cell_type": "code",
      "source": [
        "x = df[\"Calories\"].mean()\n",
        "df[\"Calories\"].fillna(x, inplace = True)\n",
        "print(df.to_markdown())"
      ],
      "metadata": {
        "id": "9iraVnSH1lE3"
      },
      "execution_count": null,
      "outputs": []
    },
    {
      "cell_type": "code",
      "source": [
        "df=pd.read_csv(\"/content/drive/MyDrive/data/data (1).csv\")\n",
        "print(df.head())"
      ],
      "metadata": {
        "id": "eMOh0APV15Ft"
      },
      "execution_count": null,
      "outputs": []
    },
    {
      "cell_type": "code",
      "source": [
        "x =df[\"Calories\"].median()\n",
        "df[\"Calories\"].fillna(x, inplace = True)\n",
        "print(df.to_markdown())"
      ],
      "metadata": {
        "id": "5B8wC7-O2s3K"
      },
      "execution_count": null,
      "outputs": []
    },
    {
      "cell_type": "code",
      "source": [
        "df=pd.read_csv(\"/content/drive/MyDrive/data/data (1).csv\")\n",
        "print(df.head())"
      ],
      "metadata": {
        "id": "hNJvxPBH4Lb6"
      },
      "execution_count": null,
      "outputs": []
    },
    {
      "cell_type": "code",
      "source": [
        "x = df[\"Calories\"].mode()[0]\n",
        "df[\"Calories\"].fillna(x, inplace = True)\n",
        "print(df.to_markdown())"
      ],
      "metadata": {
        "id": "DAe7iO394NFb"
      },
      "execution_count": null,
      "outputs": []
    },
    {
      "cell_type": "code",
      "source": [
        "df=pd.read_csv(\"/content/drive/MyDrive/data/data (1).csv\")\n",
        "print(df.head())"
      ],
      "metadata": {
        "id": "ACqHOnqr4mOq"
      },
      "execution_count": null,
      "outputs": []
    },
    {
      "cell_type": "code",
      "source": [
        "x = df[\"Calories\"].mode()[0]\n",
        "df[\"Calories\"].fillna(x, inplace = True)\n",
        "print(df.to_markdown())"
      ],
      "metadata": {
        "id": "GF3WeaoE5MNc"
      },
      "execution_count": null,
      "outputs": []
    },
    {
      "cell_type": "code",
      "source": [
        "print(df.columns)"
      ],
      "metadata": {
        "id": "4e6n5yEY51Rb"
      },
      "execution_count": null,
      "outputs": []
    },
    {
      "cell_type": "code",
      "source": [
        "df.corr()"
      ],
      "metadata": {
        "id": "diBImZHM6Jhy"
      },
      "execution_count": null,
      "outputs": []
    },
    {
      "cell_type": "code",
      "source": [
        "df.drop_duplicates(inplace = True)\n",
        "df.shape"
      ],
      "metadata": {
        "id": "IzE18qdk6tKi"
      },
      "execution_count": null,
      "outputs": []
    },
    {
      "cell_type": "code",
      "source": [
        "df.loc[7,'Calories'] = 45\n",
        "print(df.to_string())\n",
        "print(df.to_markdown())"
      ],
      "metadata": {
        "id": "WTPVDnYX8c7p"
      },
      "execution_count": null,
      "outputs": []
    },
    {
      "cell_type": "code",
      "source": [
        "print(df.loc[0])\n",
        "print(df.loc[1])\n",
        "print(df.loc[2])\n",
        "print(df.loc[3])"
      ],
      "metadata": {
        "id": "slY3K0Zc9KMp"
      },
      "execution_count": null,
      "outputs": []
    }
  ]
}